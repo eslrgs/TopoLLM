{
 "cells": [
  {
   "cell_type": "markdown",
   "metadata": {},
   "source": [
    "## Mapping Scottish place name origins using LLMs"
   ]
  },
  {
   "cell_type": "code",
   "execution_count": null,
   "metadata": {},
   "outputs": [],
   "source": [
    "import os\n",
    "import pandas as pd\n",
    "import folium\n",
    "import seaborn as sns\n",
    "from tqdm import tqdm \n",
    "from langchain_openai import ChatOpenAI\n",
    "from dotenv import load_dotenv\n",
    "from langchain_core.output_parsers import PydanticOutputParser\n",
    "from langchain_core.prompts import PromptTemplate\n",
    "from pydantic import BaseModel, Field\n",
    "from langchain_core.runnables import RunnableLambda\n"
   ]
  },
  {
   "cell_type": "markdown",
   "metadata": {},
   "source": [
    "### Run LLM query"
   ]
  },
  {
   "cell_type": "code",
   "execution_count": null,
   "metadata": {},
   "outputs": [],
   "source": [
    "# Enable progress bar\n",
    "tqdm.pandas()\n",
    "\n",
    "# Load environment variables\n",
    "load_dotenv()\n",
    "openai_api_key = os.environ.get(\"OPENAI_API_KEY\")\n",
    "\n",
    "# Initialize the LLM\n",
    "llm = ChatOpenAI(model=\"gpt-4o-mini\", openai_api_key=openai_api_key)\n",
    "\n",
    "# Define the Pydantic Model\n",
    "class GaelicCheckResponse(BaseModel):\n",
    "    origin: str = Field(..., description=\"Whether the place name has one of the following origins: Scottish Gaelic, Norse, Brittonic, Scots, English or Roman. Use only this list. If you are not sure say 'Not sure'.\")\n",
    "    reason: str = Field(..., description=\"Short explanation of your reason for selecting the place name origin.\")\n",
    "\n",
    "# Define Output Parser\n",
    "parser = PydanticOutputParser(pydantic_object=GaelicCheckResponse)\n",
    "\n",
    "# Define the Prompt\n",
    "prompt = PromptTemplate(\n",
    "    template=\"\"\"\n",
    "    You are an expert in toponymy and origin of Scottish place names.\n",
    "    Please determine the origin of the following Scottish place names.\n",
    "    I will provide the place name and the historic county (for additional context) . \n",
    "    \n",
    "    Place name: {place_name}\n",
    "    Historic country: {historic_county}\n",
    "    \n",
    "    Respond in JSON format following this schema:\n",
    "    {format_instructions}\n",
    "\n",
    "    \"\"\",\n",
    "    input_variables=[\"place_name\", \"historic_county\"],\n",
    "    partial_variables={\"format_instructions\": parser.get_format_instructions()},\n",
    ")\n",
    "\n",
    "# Define the chain\n",
    "origin_chain = (\n",
    "    prompt  # Format the prompt\n",
    "    | llm  # Call the LLM\n",
    "    | parser  # Parse response into structured JSON\n",
    "    | RunnableLambda(lambda response: response.model_dump()) # Convert Pydantic model to dict\n",
    "  )  \n",
    "\n",
    "def process_place_name(place_name, historic_county):\n",
    "    try:\n",
    "        result = origin_chain.invoke({'place_name': place_name,\n",
    "                                       'historic_county': historic_county})  # Call the LLM chain\n",
    "        return result[\"origin\"], result[\"reason\"]  # Extract fields\n",
    "    except Exception as e:\n",
    "        return None, f\"Error: {e}\"  # Handle errors\n",
    "\n",
    "df = pd.read_csv('../place_data/IPN_GB_2024.csv', encoding='latin-1')\n",
    "df = df.drop_duplicates(subset=['placeid'])\n",
    "df = df[(df.ctry23nm == 'Scotland') & (df.descnm == 'LOC')]\n",
    "df['placesort'] = df['placesort'].str.title()\n",
    "df = df.sample(10)\n",
    "\n",
    "df[['origin', 'reason']] = df[['placesort', 'cty23nm']].progress_apply(lambda x: pd.Series(process_place_name(x['placesort'], x['cty23nm'])), axis=1)\n",
    "\n",
    "# Save data\n",
    "df.to_csv('../output/IPN_GB_2024_with_origin_test.csv', index=False)\n",
    "df[['origin', 'reason']]"
   ]
  },
  {
   "cell_type": "markdown",
   "metadata": {},
   "source": [
    "### Check output"
   ]
  },
  {
   "cell_type": "code",
   "execution_count": null,
   "metadata": {},
   "outputs": [],
   "source": [
    "df_out = pd.read_csv('../output/IPN_GB_2024_with_origin_test.csv')\n",
    "df_out[['origin', 'reason']]"
   ]
  },
  {
   "cell_type": "code",
   "execution_count": null,
   "metadata": {},
   "outputs": [],
   "source": [
    "# Create a Folium Map centered at an average location\n",
    "map_center = [df_out[\"lat\"].mean(), df_out[\"long\"].mean()]\n",
    "m = folium.Map(location=map_center, zoom_start=5)\n",
    "\n",
    "# Function to assign colors\n",
    "def get_marker_color(language):\n",
    "    return {\n",
    "        \"Scottish Gaelic\": \"green\",\n",
    "        \"Norse\": \"red\",\n",
    "        \"Scots\": \"blue\",\n",
    "        \"English\": \"purple\",\n",
    "        \"Brittonic\": \"black\"\n",
    "    }.get(language, \"gray\")  # Default to gray if unknown\n",
    "\n",
    "# Add Markers\n",
    "for _, row in df_out.iterrows():\n",
    "    folium.Marker(\n",
    "        location=[row[\"lat\"], row[\"long\"]],\n",
    "        popup=f\"{row['place23nm']} - {row['reason']}\",\n",
    "        icon=folium.Icon(color=get_marker_color(row[\"origin\"]))\n",
    "    ).add_to(m)\n",
    "\n",
    "m.save(\"../data/topollm_map.html\")\n",
    "m\n"
   ]
  },
  {
   "cell_type": "code",
   "execution_count": null,
   "metadata": {},
   "outputs": [],
   "source": [
    "sns.histplot(data=df_out, x='origin', stat='percent')"
   ]
  },
  {
   "cell_type": "markdown",
   "metadata": {},
   "source": [
    "# Test"
   ]
  },
  {
   "cell_type": "code",
   "execution_count": null,
   "metadata": {},
   "outputs": [],
   "source": [
    "origin_chain.invoke({'place_name': 'Cardiff', 'historic_county': 'Cardiff'}) "
   ]
  }
 ],
 "metadata": {
  "kernelspec": {
   "display_name": ".venv",
   "language": "python",
   "name": "python3"
  },
  "language_info": {
   "codemirror_mode": {
    "name": "ipython",
    "version": 3
   },
   "file_extension": ".py",
   "mimetype": "text/x-python",
   "name": "python",
   "nbconvert_exporter": "python",
   "pygments_lexer": "ipython3",
   "version": "3.12.9"
  }
 },
 "nbformat": 4,
 "nbformat_minor": 2
}
